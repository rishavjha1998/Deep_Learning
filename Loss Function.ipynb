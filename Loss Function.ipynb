{
 "cells": [
  {
   "cell_type": "markdown",
   "id": "ad71d80b",
   "metadata": {},
   "source": [
    "# There are loss functions through which we calculate cost of a model and that cost we want to minimize"
   ]
  },
  {
   "cell_type": "markdown",
   "id": "a9e99e9c",
   "metadata": {},
   "source": [
    "# MAE:Mean Absolute Error"
   ]
  },
  {
   "cell_type": "code",
   "execution_count": 1,
   "id": "55f52255",
   "metadata": {},
   "outputs": [],
   "source": [
    "y_true=[2,3,4,5,6,7]\n",
    "y_pred=[1,4,6,7,8,9]\n"
   ]
  },
  {
   "cell_type": "code",
   "execution_count": 2,
   "id": "31ed7fd0",
   "metadata": {},
   "outputs": [
    {
     "name": "stdout",
     "output_type": "stream",
     "text": [
      "sum: 10\n",
      "MAE: 1.6666666666666667\n"
     ]
    }
   ],
   "source": [
    "sum=0\n",
    "for i in range(len(y_true)):\n",
    "    sum+=abs(y_true[i]-y_pred[i])\n",
    "print(\"sum:\",sum)\n",
    "print(\"MAE:\",sum/len(y_true))"
   ]
  },
  {
   "cell_type": "code",
   "execution_count": 27,
   "id": "06f5e523",
   "metadata": {},
   "outputs": [
    {
     "data": {
      "text/plain": [
       "<matplotlib.legend.Legend at 0x20ac0d74400>"
      ]
     },
     "execution_count": 27,
     "metadata": {},
     "output_type": "execute_result"
    },
    {
     "data": {
      "image/png": "[encoded data removed]",
      "text/plain": [
       "<Figure size 432x288 with 1 Axes>"
      ]
     },
     "metadata": {
      "needs_background": "light"
     },
     "output_type": "display_data"
    }
   ],
   "source": [
    "%matplotlib inline\n",
    "import matplotlib.pyplot as plt\n",
    "plt.plot(y_true, 'bo-',label='y_true')\n",
    "plt.plot(y_pred, 'go-',label='y_pred')\n",
    "plt.legend()"
   ]
  },
  {
   "cell_type": "code",
   "execution_count": 31,
   "id": "2e7ec85c",
   "metadata": {},
   "outputs": [
    {
     "data": {
      "text/plain": [
       "1.6666666666666667"
      ]
     },
     "execution_count": 31,
     "metadata": {},
     "output_type": "execute_result"
    }
   ],
   "source": [
    "import numpy as np\n",
    "np.mean([abs(y_true[i]-y_pred[i]) for i in range(len(y_true))])\n",
    "# By using numpy mean function for all absolute deviations"
   ]
  },
  {
   "cell_type": "code",
   "execution_count": 37,
   "id": "0ebc1118",
   "metadata": {},
   "outputs": [
    {
     "data": {
      "text/plain": [
       "[<matplotlib.lines.Line2D at 0x20ac0f239d0>]"
      ]
     },
     "execution_count": 37,
     "metadata": {},
     "output_type": "execute_result"
    },
    {
     "data": {
      "image/png": "[encoded data removed]",
      "text/plain": [
       "<Figure size 432x288 with 1 Axes>"
      ]
     },
     "metadata": {
      "needs_background": "light"
     },
     "output_type": "display_data"
    }
   ],
   "source": [
    "dev=[abs(y_true[i]-y_pred[i]) for i in range(len(y_true))]\n",
    "dev\n",
    "plt.plot(dev,label='CDF')\n"
   ]
  },
  {
   "cell_type": "markdown",
   "id": "674ed08b",
   "metadata": {},
   "source": [
    "# Mean Squared Error :=-=---=-==-=-=-=-="
   ]
  },
  {
   "cell_type": "code",
   "execution_count": 38,
   "id": "4cf6b9fd",
   "metadata": {},
   "outputs": [
    {
     "data": {
      "text/plain": [
       "[2, 3, 4, 5, 6, 7]"
      ]
     },
     "execution_count": 38,
     "metadata": {},
     "output_type": "execute_result"
    }
   ],
   "source": [
    "y_true"
   ]
  },
  {
   "cell_type": "code",
   "execution_count": 39,
   "id": "262b78a8",
   "metadata": {},
   "outputs": [
    {
     "data": {
      "text/plain": [
       "[1, 4, 6, 7, 8, 9]"
      ]
     },
     "execution_count": 39,
     "metadata": {},
     "output_type": "execute_result"
    }
   ],
   "source": [
    "y_pred"
   ]
  },
  {
   "cell_type": "code",
   "execution_count": 48,
   "id": "8492b3cd",
   "metadata": {},
   "outputs": [
    {
     "data": {
      "text/plain": [
       "3.0"
      ]
     },
     "execution_count": 48,
     "metadata": {},
     "output_type": "execute_result"
    }
   ],
   "source": [
    "np.mean([np.abs(y_true[i]-y_pred[i])**2 for i in range(len(y_true))]) # list comprehension"
   ]
  },
  {
   "cell_type": "code",
   "execution_count": 47,
   "id": "cfff374f",
   "metadata": {},
   "outputs": [
    {
     "data": {
      "text/plain": [
       "[<matplotlib.lines.Line2D at 0x20ac0f86070>]"
      ]
     },
     "execution_count": 47,
     "metadata": {},
     "output_type": "execute_result"
    },
    {
     "data": {
      "image/png": "[encoded data removed]",
      "text/plain": [
       "<Figure size 432x288 with 1 Axes>"
      ]
     },
     "metadata": {
      "needs_background": "light"
     },
     "output_type": "display_data"
    }
   ],
   "source": [
    "x=[np.abs(y_true[i]-y_pred[i])**2 for i in range(len(y_true))]\n",
    "plt.plot(x)"
   ]
  },
  {
   "cell_type": "code",
   "execution_count": 49,
   "id": "7e93911f",
   "metadata": {},
   "outputs": [],
   "source": [
    "# inbuilt MSE,MAE\n"
   ]
  },
  {
   "cell_type": "code",
   "execution_count": 53,
   "id": "5e271667",
   "metadata": {},
   "outputs": [
    {
     "data": {
      "text/plain": [
       "3.0"
      ]
     },
     "execution_count": 53,
     "metadata": {},
     "output_type": "execute_result"
    }
   ],
   "source": [
    "from sklearn.metrics import mean_squared_error\n",
    "mean_squared_error(y_true,y_pred)"
   ]
  },
  {
   "cell_type": "code",
   "execution_count": 58,
   "id": "38be01d8",
   "metadata": {},
   "outputs": [
    {
     "data": {
      "text/plain": [
       "1.6666666666666667"
      ]
     },
     "execution_count": 58,
     "metadata": {},
     "output_type": "execute_result"
    }
   ],
   "source": [
    "from sklearn.metrics import mean_absolute_error\n",
    "mean_absolute_error(y_true,y_pred)"
   ]
  },
  {
   "cell_type": "code",
   "execution_count": 59,
   "id": "5fe1a7f1",
   "metadata": {},
   "outputs": [],
   "source": [
    "# from sklearn.metrics import log_loss\n",
    "# log_loss(y_true,y_pred) log loss is used for logistic Regression only it is also known as cross-entropy"
   ]
  },
  {
   "cell_type": "markdown",
   "id": "e7af8dee",
   "metadata": {},
   "source": [
    "# LoG LOss -- Cross Entropy"
   ]
  },
  {
   "cell_type": "code",
   "execution_count": 63,
   "id": "ea96d5c3",
   "metadata": {},
   "outputs": [
    {
     "data": {
      "text/plain": [
       "[0.5,\n",
       " 0.7310585786300049,\n",
       " 0.8807970779778823,\n",
       " 0.9525741268224331,\n",
       " 0.9820137900379085,\n",
       " 0.9933071490757153]"
      ]
     },
     "execution_count": 63,
     "metadata": {},
     "output_type": "execute_result"
    }
   ],
   "source": [
    "y_true=[0,0,1,1,1,0]\n",
    "y_pred=[1/(1+np.e**(-x)) for x in range(6)]\n",
    "y_pred"
   ]
  },
  {
   "attachments": {},
   "cell_type": "markdown",
   "id": "3ee11c8a",
   "metadata": {},
   "source": [
    "# CAution IN log loss y_pred do not contain 0 or 1 otherwise it become infinity\n"
   ]
  },
  {
   "cell_type": "code",
   "execution_count": 64,
   "id": "24ebdd9a",
   "metadata": {},
   "outputs": [
    {
     "data": {
      "text/plain": [
       "1.2011315845169717"
      ]
     },
     "execution_count": 64,
     "metadata": {},
     "output_type": "execute_result"
    }
   ],
   "source": [
    "log_loss(y_true,y_pred)"
   ]
  },
  {
   "cell_type": "code",
   "execution_count": 66,
   "id": "921ae21c",
   "metadata": {},
   "outputs": [
    {
     "data": {
      "text/plain": [
       "1.2011315845169717"
      ]
     },
     "execution_count": 66,
     "metadata": {},
     "output_type": "execute_result"
    }
   ],
   "source": [
    "-1*np.mean([y_true[i]*np.log(y_pred[i])+(1-y_true[i])*np.log(1-y_pred[i]) for i in range(len(y_true))])"
   ]
  },
  {
   "cell_type": "code",
   "execution_count": null,
   "id": "2756bd1f",
   "metadata": {},
   "outputs": [],
   "source": []
  }
 ],
 "metadata": {
  "kernelspec": {
   "display_name": "Python 3 (ipykernel)",
   "language": "python",
   "name": "python3"
  },
  "language_info": {
   "codemirror_mode": {
    "name": "ipython",
    "version": 3
   },
   "file_extension": ".py",
   "mimetype": "text/x-python",
   "name": "python",
   "nbconvert_exporter": "python",
   "pygments_lexer": "ipython3",
   "version": "3.9.7"
  }
 },
 "nbformat": 4,
 "nbformat_minor": 5
}
